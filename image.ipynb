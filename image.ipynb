{
 "cells": [
  {
   "cell_type": "code",
   "execution_count": 1,
   "metadata": {},
   "outputs": [],
   "source": [
    "import cv2\n",
    "import numpy as np\n",
    "\n",
    "def detect_line(frame):\n",
    "\n",
    "    gray_frame = cv2.cvtColor(frame, cv2.COLOR_BGR2GRAY)\n",
    "    blurred_frame = cv2.GaussianBlur(gray_frame, (5, 5), 0)\n",
    "    hsv_frame = cv2.cvtColor(cv2.cvtColor(blurred_frame, cv2.COLOR_GRAY2BGR), cv2.COLOR_BGR2HSV)\n",
    "\n",
    "    lower_black = np.array([0, 0, 0])\n",
    "    upper_black = np.array([180, 255, 30])\n",
    "\n",
    "    mask = cv2.inRange(hsv_frame, lower_black, upper_black)\n",
    "\n",
    "    contours, hierarchy = cv2.findContours(mask, cv2.RETR_EXTERNAL, cv2.CHAIN_APPROX_NONE)\n",
    "\n",
    "    if contours:\n",
    "        largest_contour = max(contours, key=cv2.contourArea)\n",
    "        cv2.drawContours(frame, [largest_contour], -1, (0, 0, 255), 2)\n",
    "\n",
    "    #cv2.drawContours(frame, contours, -1, (0, 0, 255), 2)\n",
    "\n",
    "    canny_frame = cv2.Canny(blurred_frame, 50, 150)\n",
    "\n",
    "    lines = cv2.HoughLinesP(canny_frame, 1, np.pi/180, threshold=100, minLineLength=30, maxLineGap=10)\n",
    "\n",
    "    if lines is not None:\n",
    "        for line in lines:\n",
    "            x1, y1, x2, y2 = line[0]\n",
    "            cv2.line(frame, (x1, y1), (x2, y2), (255, 0, 0), 2)\n",
    "\n",
    "    return frame"
   ]
  },
  {
   "cell_type": "code",
   "execution_count": 2,
   "metadata": {},
   "outputs": [],
   "source": [
    "cam = cv2.VideoCapture(0)\n",
    "address = \"http://192.168.1.5:8080/video\"\n",
    "cam.open(address)\n",
    "\n",
    "if not cam.isOpened():\n",
    "   print(\"Error opening camera!\")\n",
    "   exit()\n",
    "\n",
    "while True:\n",
    "    ret, frame = cam.read()\n",
    "    \n",
    "    if not ret:\n",
    "        break\n",
    "\n",
    "    cv2.imshow(\"Frame\", frame)\n",
    "\n",
    "    detected_line = detect_line(frame)\n",
    "\n",
    "    cv2.imshow(\"Detected_Line\", detected_line)\n",
    "\n",
    "    if cv2.waitKey(1) & 0xFF == ord('q'):\n",
    "        break\n",
    "    \n",
    "cam.release()\n",
    "cv2.destroyAllWindows()"
   ]
  }
 ],
 "metadata": {
  "kernelspec": {
   "display_name": "Python 3",
   "language": "python",
   "name": "python3"
  },
  "language_info": {
   "codemirror_mode": {
    "name": "ipython",
    "version": 3
   },
   "file_extension": ".py",
   "mimetype": "text/x-python",
   "name": "python",
   "nbconvert_exporter": "python",
   "pygments_lexer": "ipython3",
   "version": "3.11.5"
  }
 },
 "nbformat": 4,
 "nbformat_minor": 2
}
