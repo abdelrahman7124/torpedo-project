{
 "cells": [
  {
   "cell_type": "code",
   "execution_count": null,
   "metadata": {},
   "outputs": [],
   "source": [
    "import cv2\n",
    "\n",
    "def detect_shape(frame):\n",
    "    gray_frame = cv2.cvtColor(frame, cv2.COLOR_BGR2GRAY)\n",
    "    blurred_frame = cv2.GaussianBlur(gray_frame, (5, 5), 0)\n",
    "\n",
    "    corners = cv2.goodFeaturesToTrack(blurred_frame, maxCorners=100, qualityLevel=0.01, minDistance=10)\n",
    "    if corners is not None:\n",
    "        num_vertices = len(corners)\n",
    "    else:\n",
    "        num_vertices = 0\n",
    "    return num_vertices\n",
    "\n",
    "def check_shape(main_vertices, side_vertices):\n",
    "    threshold = 2\n",
    "    difference = abs(main_vertices - side_vertices)\n",
    "    if difference <= threshold:\n",
    "        return True\n",
    "    else:\n",
    "        return False "
   ]
  },
  {
   "cell_type": "code",
   "execution_count": null,
   "metadata": {},
   "outputs": [],
   "source": [
    "cam = cv2.VideoCapture(0)\n",
    "address = \"http://192.168.1.2:8080/video\"\n",
    "cam.open(address)\n",
    "\n",
    "if not cam.isOpened():\n",
    "   print(\"Error opening camera!\")\n",
    "   exit()\n",
    "\n",
    "while True:\n",
    "    ret, frame = cam.read()\n",
    "    \n",
    "    if not ret:\n",
    "        break\n",
    "\n",
    "    print(\"Scan\\n\")\n",
    "    print(\"1) Yes\")\n",
    "    print(\"2) No\\n\")\n",
    "    inp = input(\"Enter: \")\n",
    "\n",
    "    if inp == 1:\n",
    "        main_vertices = detect_shape(frame)\n",
    "        \n",
    "    print(\"Scan\\n\")\n",
    "    print(\"1) Yes\")\n",
    "    print(\"2) No\\n\")\n",
    "    inp = input(\"Enter: \")\n",
    "\n",
    "    if inp == 1:\n",
    "        side_vertices = detect_shape(frame)\n",
    "\n",
    "    check = check_shape(main_vertices, side_vertices)\n",
    "\n",
    "    if check:\n",
    "        print(\"Same\\n\")\n",
    "    else:\n",
    "        print(\"Different\\n\")\n",
    "\n",
    "    if cv2.waitKey(1) & 0xFF == ord('q'):\n",
    "        break\n",
    "    \n",
    "cam.release()\n",
    "cv2.destroyAllWindows()"
   ]
  }
 ],
 "metadata": {
  "language_info": {
   "name": "python"
  }
 },
 "nbformat": 4,
 "nbformat_minor": 2
}
