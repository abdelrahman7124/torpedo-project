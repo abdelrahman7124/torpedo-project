{
 "cells": [
  {
   "cell_type": "code",
   "execution_count": null,
   "metadata": {},
   "outputs": [],
   "source": [
    "import cv2\n",
    "import matplotlib.pyplot as plt\n",
    "import numpy as np\n",
    "\n",
    "def detect_shape(frame):\n",
    "    gray_frame = cv2.cvtColor(frame, cv2.COLOR_BGR2GRAY)\n",
    "    blurred_frame = cv2.GaussianBlur(gray_frame, (5, 5), 0)\n",
    "    canny_frame = cv2.Canny(blurred_frame, 40, 80)\n",
    "\n",
    "    epsilon = 0.02 * cv2.arcLength(canny_frame, True)\n",
    "    approx = cv2.approxPolyDP(canny_frame, epsilon, True)\n",
    "    num_vertices = len(approx)\n",
    "    return num_vertices"
   ]
  },
  {
   "cell_type": "code",
   "execution_count": null,
   "metadata": {},
   "outputs": [],
   "source": [
    "cam = cv2.VideoCapture(0)\n",
    "address = \"http://192.168.1.2:8080/video\"\n",
    "cam.open(address)\n",
    "\n",
    "if not cam.isOpened():\n",
    "   print(\"Error opening camera!\")\n",
    "   exit()\n",
    "\n",
    "while True:\n",
    "    ret, frame = cam.read()\n",
    "    \n",
    "    if not ret:\n",
    "        break\n",
    "\n",
    "    if cv2.waitKey(1) & 0xFF == ord('q'):\n",
    "        break\n",
    "    \n",
    "cam.release()\n",
    "cv2.destroyAllWindows()"
   ]
  }
 ],
 "metadata": {
  "language_info": {
   "name": "python"
  }
 },
 "nbformat": 4,
 "nbformat_minor": 2
}
