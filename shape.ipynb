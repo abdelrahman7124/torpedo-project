{
 "cells": [
  {
   "cell_type": "code",
   "execution_count": 1,
   "metadata": {},
   "outputs": [],
   "source": [
    "import cv2\n",
    "\n",
    "def detect_shape(frame):\n",
    "    gray_frame = cv2.cvtColor(frame, cv2.COLOR_BGR2GRAY)\n",
    "    blurred_frame = cv2.GaussianBlur(gray_frame, (5, 5), 0)\n",
    "    canny_frame = cv2.Canny(blurred_frame, 40, 80)\n",
    "\n",
    "    contours, _ = cv2.findContours(canny_frame, cv2.RETR_EXTERNAL, cv2.CHAIN_APPROX_SIMPLE)\n",
    "\n",
    "    if not contours:\n",
    "        return 0\n",
    "    \n",
    "    largest_contour = max(contours, key=cv2.contourArea)\n",
    "\n",
    "    epsilon = 0.02 * cv2.arcLength(largest_contour, True)\n",
    "    approx = cv2.approxPolyDP(largest_contour, epsilon, True)\n",
    "    num_vertices = len(approx)\n",
    "        \n",
    "    return num_vertices\n",
    "\n",
    "def check_shape(main_vertices, side_vertices):\n",
    "    threshold = 0\n",
    "    difference = abs(main_vertices - side_vertices)\n",
    "    if difference <= threshold:\n",
    "        return True\n",
    "    else:\n",
    "        return False "
   ]
  },
  {
   "cell_type": "code",
   "execution_count": 2,
   "metadata": {},
   "outputs": [
    {
     "name": "stdout",
     "output_type": "stream",
     "text": [
      "Different\n",
      "\n"
     ]
    }
   ],
   "source": [
    "frame1 = cv2.imread(\"circle1.jpg\")\n",
    "frame2 = cv2.imread(\"square2.jpg\")\n",
    "\n",
    "main_vertices = detect_shape(frame1)\n",
    "side_vertices = detect_shape(frame2)\n",
    "\n",
    "check = check_shape(main_vertices, side_vertices)\n",
    "\n",
    "if check:\n",
    "    print(\"Same\\n\")\n",
    "else:\n",
    "    print(\"Different\\n\")\n"
   ]
  }
 ],
 "metadata": {
  "kernelspec": {
   "display_name": "Python 3",
   "language": "python",
   "name": "python3"
  },
  "language_info": {
   "codemirror_mode": {
    "name": "ipython",
    "version": 3
   },
   "file_extension": ".py",
   "mimetype": "text/x-python",
   "name": "python",
   "nbconvert_exporter": "python",
   "pygments_lexer": "ipython3",
   "version": "3.10.12"
  }
 },
 "nbformat": 4,
 "nbformat_minor": 2
}
